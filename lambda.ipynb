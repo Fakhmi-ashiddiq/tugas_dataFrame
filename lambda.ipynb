{
 "cells": [
  {
   "cell_type": "code",
   "execution_count": 23,
   "metadata": {},
   "outputs": [],
   "source": [
    "# untuk membuat grafik semua data dari: kota/kabupaten, jumlah sampah, tahun\n",
    "# import pandas as pd\n",
    "# import matplotlib.pyplot as plt\n",
    "# import seaborn as sns\n",
    "\n",
    "# file_path = \"data_jumlah_produksi_sampah_kabupatenkota.csv\"\n",
    "# data = pd.read_csv(file_path)\n",
    "\n",
    "# plt.figure(figsize=(15, 8))\n",
    "# sns.lineplot(x='tahun', y='jumlah_produksi_sampah', hue='nama_kabupaten_kota', marker='o', data=data)\n",
    "# plt.title(\"Grafik data produksi sampah di Jawa Barat\", fontsize=16)\n",
    "# plt.xlabel('Tahun', fontsize=12)\n",
    "# plt.ylabel('Jumlah Produksi Sampah (ton)', fontsize=12)\n",
    "# plt.legend(title='Kabupaten/Kota', bbox_to_anchor=(1.05, 1), loc='upper left')\n",
    "# plt.grid(True)\n",
    "# plt.tight_layout()\n",
    "# plt.show()"
   ]
  },
  {
   "cell_type": "code",
   "execution_count": null,
   "metadata": {},
   "outputs": [],
   "source": [
    "import matplotlib.pyplot as plt\n",
    "import pandas as pd\n",
    "\n",
    "df = pd.read_excel('data_jumlah_produksi_sampah_kabupatenkota.xlsx', sheet_name='data')\n",
    "df\n",
    "\n",
    "plt.figure(figsize=(14, 10))\n",
    "plt.barh(df['nama_kabupaten_kota'], df['jumlah_produksi_sampah'], color='skyblue')\n",
    "plt.xlabel('Jumlah Produksi Sampah (ton)', fontsize=12)\n",
    "plt.ylabel('Kabupaten/Kota', fontsize=12)\n",
    "plt.title('Total Produksi Sampah per Kabupaten/Kota')\n",
    "plt.tight_layout()\n",
    "plt.show()"
   ]
  },
  {
   "cell_type": "code",
   "execution_count": null,
   "metadata": {},
   "outputs": [],
   "source": [
    "df['jumlah_total_sampah_kabupatenkota_pertahun'] = df['jumlah_produksi_sampah'].apply(lambda x: x*365)\n",
    "df"
   ]
  },
  {
   "cell_type": "code",
   "execution_count": null,
   "metadata": {},
   "outputs": [],
   "source": [
    "plt.figure(figsize=(14, 10))\n",
    "plt.barh(df['nama_kabupaten_kota'], df['jumlah_total_sampah_kabupatenkota_pertahun'], color='skyblue')\n",
    "plt.xlabel('Jumlah Total Sampah (ton)', fontsize=12)\n",
    "plt.ylabel('Kabupaten/Kota', fontsize=12)\n",
    "plt.title('Total Produksi Sampah per Kabupaten/Kota', fontsize=16, loc='center')\n",
    "plt.tight_layout()\n",
    "plt.show()"
   ]
  },
  {
   "cell_type": "code",
   "execution_count": null,
   "metadata": {},
   "outputs": [],
   "source": [
    "df['Kategori'] = df['jumlah_produksi_sampah'].apply(lambda x: 'Segera Ditanggulangi' if x > 400 else 'Aman')\n",
    "df"
   ]
  },
  {
   "cell_type": "code",
   "execution_count": null,
   "metadata": {},
   "outputs": [],
   "source": [
    "df['bayaran_sampah'] = df['jumlah_produksi_sampah'] *123000\n",
    "df"
   ]
  },
  {
   "cell_type": "code",
   "execution_count": null,
   "metadata": {},
   "outputs": [],
   "source": [
    "df['pajak'] = df.apply(lambda x: x['bayaran_sampah'] * 0.05 if x ['Kategori'] == 'Segera Ditanggulangi' else 0, axis=1)\n",
    "df"
   ]
  }
 ],
 "metadata": {
  "kernelspec": {
   "display_name": "Python 3",
   "language": "python",
   "name": "python3"
  },
  "language_info": {
   "codemirror_mode": {
    "name": "ipython",
    "version": 3
   },
   "file_extension": ".py",
   "mimetype": "text/x-python",
   "name": "python",
   "nbconvert_exporter": "python",
   "pygments_lexer": "ipython3",
   "version": "3.12.7"
  }
 },
 "nbformat": 4,
 "nbformat_minor": 2
}
