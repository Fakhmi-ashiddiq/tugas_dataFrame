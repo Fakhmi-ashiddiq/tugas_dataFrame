{
 "cells": [
  {
   "cell_type": "code",
   "execution_count": null,
   "metadata": {},
   "outputs": [],
   "source": [
    "# no1. DataFrame dari data data_jumlah_produksi_sampah_kabupatenkota menggunakan pustaka pandas\n",
    "import pandas as pd\n",
    "\n",
    "df = pd.read_csv('data_jumlah_produksi_sampah_kabupatenkota.csv')\n",
    "pd.set_option('display.max_rows', None)\n",
    "df"
   ]
  },
  {
   "cell_type": "code",
   "execution_count": null,
   "metadata": {},
   "outputs": [],
   "source": [
    "# no2. Hitung total sampah dari data tersebut untuk tahun tertentu\n",
    "total_sampah_kabupatenkota_jabar_2019 = {}\n",
    "\n",
    "for x, y in df.iterrows():\n",
    "    tahun = y['tahun']\n",
    "    sampah = y['jumlah_produksi_sampah']\n",
    "\n",
    "    if tahun == 2019 not in total_sampah_kabupatenkota_jabar_2019:\n",
    "        total_sampah_kabupatenkota_jabar_2019[tahun] = sampah\n",
    "    elif tahun == 2019 in total_sampah_kabupatenkota_jabar_2019:\n",
    "        total_sampah_kabupatenkota_jabar_2019[tahun] += sampah\n",
    "\n",
    "print(f\"Total Produksi Sampah di seluruh Kabupaten/Kota di Jawa Barat untuk tahun 2019 adalah : {total_sampah_kabupatenkota_jabar_2019[2019]}ton\")"
   ]
  },
  {
   "cell_type": "code",
   "execution_count": null,
   "metadata": {},
   "outputs": [],
   "source": [
    "# no3. Jumlah data pertahun dari data tersebut\n",
    "jumlah_data_pertahun = {}\n",
    "\n",
    "for x, y in df.iterrows():\n",
    "    tahun = y['tahun']\n",
    "    sampah = y['jumlah_produksi_sampah']\n",
    "    if tahun in jumlah_data_pertahun:\n",
    "        jumlah_data_pertahun[tahun] += sampah\n",
    "    else:\n",
    "        jumlah_data_pertahun[tahun] = sampah\n",
    "\n",
    "print(\"Data Jumlah Sampah Pertahun\")\n",
    "for tahun, total in jumlah_data_pertahun.items():\n",
    "    print(\"Tahun\", tahun, \":\", total, \"ton\")"
   ]
  },
  {
   "cell_type": "code",
   "execution_count": null,
   "metadata": {},
   "outputs": [],
   "source": [
    "# no4. Jumlah data per Kota/Kabupaten per tahun\n",
    "jumlah_data_perKotaKabupaten_perTahun = {}\n",
    "\n",
    "for x, y in df.iterrows():\n",
    "    kota_kabupaten = y['nama_kabupaten_kota']\n",
    "    tahun = y['tahun']\n",
    "    sampah = y['jumlah_produksi_sampah']\n",
    "\n",
    "    key = (kota_kabupaten, tahun)\n",
    "\n",
    "    if key in jumlah_data_perKotaKabupaten_perTahun:\n",
    "        jumlah_data_perKotaKabupaten_perTahun[key] += sampah\n",
    "    else:\n",
    "        jumlah_data_perKotaKabupaten_perTahun[key] = sampah\n",
    "\n",
    "data = []\n",
    "for (kota_kabupaten, tahun), total in jumlah_data_perKotaKabupaten_perTahun.items():\n",
    "    data.append([kota_kabupaten, tahun, total])\n",
    "\n",
    "print(\"Jumlah Data per Kota/Kabupaten per Tahun\")\n",
    "for (kota_kabupaten, tahun), total in jumlah_data_perKotaKabupaten_perTahun.items():\n",
    "    print(f\"{kota_kabupaten} - Tahun {tahun}: {total} ton\")"
   ]
  },
  {
   "cell_type": "code",
   "execution_count": 56,
   "metadata": {},
   "outputs": [],
   "source": [
    "# export csv dan excel\n",
    "\n",
    "# no2\n",
    "df_no2 = pd.DataFrame(list(total_sampah_kabupatenkota_jabar_2019.items()), columns=['Tahun','Total Sampah'])\n",
    "df_no2.to_csv('data_no2.csv', index=False)\n",
    "df_no2.to_excel('data_no2.xlsx', index=False)\n",
    "\n",
    "# no3\n",
    "df_no3 = pd.DataFrame(list(jumlah_data_pertahun.items()), columns=['Tahun','Total Sampah'])\n",
    "df_no3.to_csv('data_no3.csv', index=False)\n",
    "df_no3.to_excel('data_no3.xlsx', index=False)\n",
    "\n",
    "# no4\n",
    "df_no4 = pd.DataFrame(data, columns=['Nama Daerah', 'Tahun', 'Total Sampah'])\n",
    "df_no4.to_csv('data_no4.csv', index=False)\n",
    "df_no4.to_excel('data_no4.xlsx', index=False)"
   ]
  }
 ],
 "metadata": {
  "kernelspec": {
   "display_name": "Python 3",
   "language": "python",
   "name": "python3"
  },
  "language_info": {
   "codemirror_mode": {
    "name": "ipython",
    "version": 3
   },
   "file_extension": ".py",
   "mimetype": "text/x-python",
   "name": "python",
   "nbconvert_exporter": "python",
   "pygments_lexer": "ipython3",
   "version": "3.12.7"
  }
 },
 "nbformat": 4,
 "nbformat_minor": 2
}
